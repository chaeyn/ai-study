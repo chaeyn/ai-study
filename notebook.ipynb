{
 "cells": [
  {
   "cell_type": "code",
   "execution_count": null,
   "id": "2c0485ca",
   "metadata": {},
   "outputs": [
    {
     "data": {
      "text/plain": [
       "'네, 대구소프트웨어마이스터고등학교는 대한민국 대구광역시에 위치한 소프트웨어 분야 전문 고등학교입니다. 이 학교는 소프트웨어 개발, 정보기술(IT), 프로그래밍 등 관련 분야에 특화된 교육 과정을 운영하고 있어 학생들이 실무에 필요한 기술과 능력을 갖출 수 있도록 지원하고 있습니다. 또한, 산업체와의 협력, 실습 중심의 교육, 창의적 문제 해결 능력 배양 등을 통해 IT 및 소프트웨어 산업의 인재를 양성하는 데 주력하고 있습니다. 혹시 더 구체적인 정보나 관련 내용이 필요하시면 말씀해 주세요!'"
      ]
     },
     "execution_count": 2,
     "metadata": {},
     "output_type": "execute_result"
    }
   ],
   "source": [
    "from langchain_openai import ChatOpenAI\n",
    "\n",
    "chat = ChatOpenAI(model_name=\"gpt-4.1-nano\", temperature=0.1)"
   ]
  },
  {
   "cell_type": "code",
   "execution_count": null,
   "id": "05ac7d62",
   "metadata": {},
   "outputs": [
    {
     "data": {
      "text/plain": [
       "AIMessage(content='멕시코와 태국 사리(방콕)의 거리는 대략적으로 약 13,000km에서 14,000km 정도입니다. 정확한 거리는 출발지와 도착지의 구체적인 위치에 따라 다를 수 있습니다.  \\n제 이름은 채근영입니다!', additional_kwargs={'refusal': None}, response_metadata={'token_usage': {'completion_tokens': 66, 'prompt_tokens': 70, 'total_tokens': 136, 'completion_tokens_details': {'accepted_prediction_tokens': 0, 'audio_tokens': 0, 'reasoning_tokens': 0, 'rejected_prediction_tokens': 0}, 'prompt_tokens_details': {'audio_tokens': 0, 'cached_tokens': 0}}, 'model_name': 'gpt-4.1-nano-2025-04-14', 'system_fingerprint': 'fp_e91a518ddb', 'id': 'chatcmpl-C4pzYzK7hmulQR2krua5EJ3RBebDp', 'service_tier': 'default', 'finish_reason': 'stop', 'logprobs': None}, id='run--2271ad5f-a25f-4b0a-9f85-1cd85967f237-0', usage_metadata={'input_tokens': 70, 'output_tokens': 66, 'total_tokens': 136, 'input_token_details': {'audio': 0, 'cache_read': 0}, 'output_token_details': {'audio': 0, 'reasoning': 0}})"
      ]
     },
     "execution_count": 5,
     "metadata": {},
     "output_type": "execute_result"
    }
   ],
   "source": [
    "from langchain.schema import HumanMessage, AIMessage, SystemMessage\n",
    "\n",
    "messages = [\n",
    "  SystemMessage(content=\"당신은 지리 전문가입니다. 그리고 당신은 오직 한국어로만 답변합니다.\"),\n",
    "  AIMessage(content=\"내 이름은 채근영이야!\"),\n",
    "  HumanMessage(content=\"멕시코와 태국 사리의 거리는 어떻게 되나요? 그리고 당신의 이름은 무엇인가요?\")\n",
    "]\n",
    "\n",
    "chat.predict_messages(messages)\n"
   ]
  }
 ],
 "metadata": {
  "kernelspec": {
   "display_name": "env",
   "language": "python",
   "name": "python3"
  },
  "language_info": {
   "codemirror_mode": {
    "name": "ipython",
    "version": 3
   },
   "file_extension": ".py",
   "mimetype": "text/x-python",
   "name": "python",
   "nbconvert_exporter": "python",
   "pygments_lexer": "ipython3",
   "version": "3.11.6"
  }
 },
 "nbformat": 4,
 "nbformat_minor": 5
}
