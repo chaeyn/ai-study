{
 "cells": [
  {
   "cell_type": "code",
   "execution_count": 2,
   "id": "2c0485ca",
   "metadata": {},
   "outputs": [
    {
     "data": {
      "text/plain": [
       "'네, 대구소프트웨어마이스터고등학교는 대한민국 대구광역시에 위치한 소프트웨어 분야 전문 고등학교입니다. 이 학교는 소프트웨어 개발, 정보기술(IT), 프로그래밍 등 관련 분야에 특화된 교육 과정을 운영하고 있어 학생들이 실무에 필요한 기술과 능력을 갖출 수 있도록 지원하고 있습니다. 또한, 산업체와의 협력, 실습 중심의 교육, 창의적 문제 해결 능력 배양 등을 통해 IT 및 소프트웨어 산업의 인재를 양성하는 데 주력하고 있습니다. 혹시 더 구체적인 정보나 관련 내용이 필요하시면 말씀해 주세요!'"
      ]
     },
     "execution_count": 2,
     "metadata": {},
     "output_type": "execute_result"
    }
   ],
   "source": [
    "from langchain_openai import ChatOpenAI\n",
    "\n",
    "chat = ChatOpenAI(model_name=\"gpt-4.1-nano\")\n",
    "\n",
    "b = chat.predict(\"대구소프트웨어마이스터고등학교에 대해 알고 있어?\")\n",
    "b"
   ]
  },
  {
   "cell_type": "code",
   "execution_count": null,
   "id": "05ac7d62",
   "metadata": {},
   "outputs": [],
   "source": []
  }
 ],
 "metadata": {
  "kernelspec": {
   "display_name": "env",
   "language": "python",
   "name": "python3"
  },
  "language_info": {
   "codemirror_mode": {
    "name": "ipython",
    "version": 3
   },
   "file_extension": ".py",
   "mimetype": "text/x-python",
   "name": "python",
   "nbconvert_exporter": "python",
   "pygments_lexer": "ipython3",
   "version": "3.11.6"
  }
 },
 "nbformat": 4,
 "nbformat_minor": 5
}
