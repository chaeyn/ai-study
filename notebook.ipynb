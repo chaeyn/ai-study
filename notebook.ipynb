{
 "cells": [
  {
   "cell_type": "code",
   "execution_count": null,
   "id": "2c0485ca",
   "metadata": {},
   "outputs": [
    {
     "data": {
      "text/plain": [
       "'Human: 프랑스에 대해 아는 것이 있나요?\\nAI: \\n제가 프랑스에 대해 아는 것입니다:\\n수도: 파리\\n언어: 프랑스어\\n음식: 와인과 치즈\\n통화: 유로\\n\\n\\nHuman: 스페인에 대해 아는 것이 있나요?'"
      ]
     },
     "execution_count": 18,
     "metadata": {},
     "output_type": "execute_result"
    }
   ],
   "source": [
    "from langchain_openai import ChatOpenAI\n",
    "from langchain.prompts import PromptTemplate\n",
    "from langchain.prompts.few_shot import FewShotPromptTemplate\n",
    "from langchain.callbacks import StreamingStdOutCallbackHandler\n",
    "from langchain.prompts.example_selector.base import BaseExampleSelector\n",
    "\n",
    "chat = ChatOpenAI(\n",
    "    model_name=\"gpt-4.1-nano\",\n",
    "    temperature=0.1,\n",
    "    streaming=True,\n",
    "    callbacks=[StreamingStdOutCallbackHandler()],\n",
    ")\n",
    "\n",
    "examples = [\n",
    "    {\n",
    "        \"question\": \"프랑스에 대해 아는 것이 있나요?\",\n",
    "        \"answer\": \"\"\"\n",
    "제가 프랑스에 대해 아는 것입니다:\n",
    "수도: 파리\n",
    "언어: 프랑스어\n",
    "음식: 와인과 치즈\n",
    "통화: 유로\n",
    "\"\"\",\n",
    "    },\n",
    "    {\n",
    "        \"question\": \"이탈리아에 대해 아는 것이 있나요?\",\n",
    "        \"answer\": \"\"\"\n",
    "제가 이탈리아에 대해 아는 것입니다:\n",
    "수도: 로마\n",
    "언어: 이탈리아어\n",
    "음식: 피자와 파스타\n",
    "통화: 유로\n",
    "\"\"\",\n",
    "    },\n",
    "    {\n",
    "        \"question\": \"그리스에 대해 아는 것이 있나요?\",\n",
    "        \"answer\": \"\"\"\n",
    "제가 그리스에 대해 아는 것입니다:\n",
    "수도: 아테네\n",
    "언어: 그리스어\n",
    "음식: 수블라키와 페타 치즈\n",
    "통화: 유로\n",
    "\"\"\",\n",
    "    },\n",
    "]\n",
    "\n",
    "class RandomExampleSelector(BaseExampleSelector):\n",
    "    def __init__(self, examples):\n",
    "        self.examples = examples\n",
    "\n",
    "    def add_example(self, example):\n",
    "        self.examples.append(example)\n",
    "\n",
    "    def select_examples(self, input_variables):\n",
    "        from random import choice\n",
    "        return [choice(self.examples)]\n",
    "\n",
    "example_prompt = PromptTemplate.from_template(\"Human: {question}\\nAI: {answer}\")\n",
    "\n",
    "example_selector = RandomExampleSelector(\n",
    "    examples=examples,\n",
    ")\n",
    "\n",
    "prompt = FewShotPromptTemplate(\n",
    "    example_prompt=example_prompt,\n",
    "    example_selector=example_selector,\n",
    "    suffix=\"Human: {country}에 대해 아는 것이 있나요?\",\n",
    "    input_variables=[\"country\"],\n",
    ")\n",
    "\n",
    "prompt.format(country=\"스페인\")"
   ]
  }
 ],
 "metadata": {
  "kernelspec": {
   "display_name": "env",
   "language": "python",
   "name": "python3"
  },
  "language_info": {
   "codemirror_mode": {
    "name": "ipython",
    "version": 3
   },
   "file_extension": ".py",
   "mimetype": "text/x-python",
   "name": "python",
   "nbconvert_exporter": "python",
   "pygments_lexer": "ipython3",
   "version": "3.11.6"
  }
 },
 "nbformat": 4,
 "nbformat_minor": 5
}
