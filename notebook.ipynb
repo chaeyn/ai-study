{
 "cells": [
  {
   "cell_type": "code",
   "execution_count": 2,
   "id": "2c0485ca",
   "metadata": {},
   "outputs": [
    {
     "name": "stderr",
     "output_type": "stream",
     "text": [
      "/var/folders/_j/j5z1t67s403bjnzwvm9675940000gn/T/ipykernel_97742/1587958287.py:11: LangChainDeprecationWarning: The method `BaseChatModel.predict` was deprecated in langchain-core 0.1.7 and will be removed in 1.0. Use :meth:`~invoke` instead.\n",
      "  chat.predict(prompt)\n"
     ]
    },
    {
     "data": {
      "text/plain": [
       "'멕시코와 서울 사이의 거리는 대략적으로 약 11,000에서 12,000킬로미터(약 6,800에서 7,500마일) 정도입니다. 이는 직선 거리(항공 거리) 기준이며, 실제 비행 경로나 이동 방법에 따라 차이가 있을 수 있습니다.'"
      ]
     },
     "execution_count": 2,
     "metadata": {},
     "output_type": "execute_result"
    }
   ],
   "source": [
    "from langchain_openai import ChatOpenAI\n",
    "from langchain.prompts import PromptTemplate, ChatPromptTemplate\n",
    "\n",
    "chat = ChatOpenAI(model_name=\"gpt-4.1-nano\", temperature=0.1)\n",
    "\n",
    "template = PromptTemplate.from_template(\n",
    "    \"{country_a}와 {country_b} 사이의 거리는 어떻게 되나요?\"\n",
    ")\n",
    "prompt = template.format(country_a=\"멕시코\", country_b=\"서울\")\n",
    "\n",
    "chat.predict(prompt)"
   ]
  },
  {
   "cell_type": "code",
   "execution_count": 6,
   "id": "05ac7d62",
   "metadata": {},
   "outputs": [
    {
     "data": {
      "text/plain": [
       "AIMessage(content='한국과 일본 사이의 거리는 약 1,200에서 1,300킬로미터 정도입니다. 이는 두 나라의 가장 가까운 해상 거리로, 일본의 오키나와와 한국의 부산 간 거리를 기준으로 합니다. \\n\\n제 이름은 채근영입니다.', additional_kwargs={'refusal': None}, response_metadata={'token_usage': {'completion_tokens': 62, 'prompt_tokens': 64, 'total_tokens': 126, 'completion_tokens_details': {'accepted_prediction_tokens': 0, 'audio_tokens': 0, 'reasoning_tokens': 0, 'rejected_prediction_tokens': 0}, 'prompt_tokens_details': {'audio_tokens': 0, 'cached_tokens': 0}}, 'model_name': 'gpt-4.1-nano-2025-04-14', 'system_fingerprint': 'fp_e91a518ddb', 'id': 'chatcmpl-C4qQVOiwqCO3mwk1GMmAGYzFw94w3', 'service_tier': 'default', 'finish_reason': 'stop', 'logprobs': None}, id='run--7c35a3ce-3ad7-498d-a05f-ad16bcb10391-0', usage_metadata={'input_tokens': 64, 'output_tokens': 62, 'total_tokens': 126, 'input_token_details': {'audio': 0, 'cache_read': 0}, 'output_token_details': {'audio': 0, 'reasoning': 0}})"
      ]
     },
     "execution_count": 6,
     "metadata": {},
     "output_type": "execute_result"
    }
   ],
   "source": [
    "template = ChatPromptTemplate.from_messages(\n",
    "    [\n",
    "        (\n",
    "            \"system\",\n",
    "            \"당신은 지리 전문가입니다. 그리고 당신은 오직 {language}로만 답변합니다.\",\n",
    "        ),\n",
    "        (\"ai\", \"제 이름은 {name}입니다!\"),\n",
    "        (\n",
    "            \"human\",\n",
    "            \"{country_a}와 {country_b} 사이의 거리는 어떻게 되나요? 그리고 당신의 이름은 무엇인가요?\",\n",
    "        ),\n",
    "    ]\n",
    ")\n",
    "\n",
    "prompt = template.format_messages(\n",
    "    language=\"한국어\", name=\"채근영\", country_a=\"한국\", country_b=\"일본\"\n",
    ")\n",
    "\n",
    "chat.predict_messages(prompt)"
   ]
  }
 ],
 "metadata": {
  "kernelspec": {
   "display_name": "env",
   "language": "python",
   "name": "python3"
  },
  "language_info": {
   "codemirror_mode": {
    "name": "ipython",
    "version": 3
   },
   "file_extension": ".py",
   "mimetype": "text/x-python",
   "name": "python",
   "nbconvert_exporter": "python",
   "pygments_lexer": "ipython3",
   "version": "3.11.6"
  }
 },
 "nbformat": 4,
 "nbformat_minor": 5
}
