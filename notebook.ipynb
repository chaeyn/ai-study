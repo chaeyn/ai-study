{
 "cells": [
  {
   "cell_type": "code",
   "execution_count": 4,
   "id": "2c0485ca",
   "metadata": {},
   "outputs": [
    {
     "name": "stdout",
     "output_type": "stream",
     "text": [
      "네, 대한민국에 대해 알고 있는 내용은 다음과 같습니다:\n",
      "\n",
      "- 수도: 서울\n",
      "- 공식 언어: 한국어\n",
      "- 인구: 약 5천만 명 (2023년 기준)\n",
      "- 면적: 약 100,210 제곱킬로미터\n",
      "- 정부 형태: 대통령제 공화국\n",
      "- 경제: 세계에서 10위권 내의 경제 규모를 자랑하며, 첨단 기술, 자동차, 반도체, 선박 제조업이 발달해 있습니다.\n",
      "- 문화: 한글, 한복, 한식(김치, 비빔밥 등), K-pop, 한국 드라마와 영화가 세계적으로 인기를 끌고 있습니다.\n",
      "- 역사: 삼국시대(고구려, 백제, 신라), 고려, 조선, 일제강점기, 1948년 대한민국 정부 수립 이후 현대에 이르기까지 풍부한 역사를 가지고 있습니다.\n",
      "- 지리: 한반도에 위치하며, 북쪽으로는 북한과 접하고, 동쪽으로는 동해(일본해), 서쪽으로는 서해(황해), 남쪽으로는 대한해협을 사이에 두고 일본과 가까운 위치에 있습니다.\n",
      "\n",
      "추가로 궁금한 점이 있으면 말씀해 주세요!"
     ]
    },
    {
     "data": {
      "text/plain": [
       "AIMessage(content='네, 대한민국에 대해 알고 있는 내용은 다음과 같습니다:\\n\\n- 수도: 서울\\n- 공식 언어: 한국어\\n- 인구: 약 5천만 명 (2023년 기준)\\n- 면적: 약 100,210 제곱킬로미터\\n- 정부 형태: 대통령제 공화국\\n- 경제: 세계에서 10위권 내의 경제 규모를 자랑하며, 첨단 기술, 자동차, 반도체, 선박 제조업이 발달해 있습니다.\\n- 문화: 한글, 한복, 한식(김치, 비빔밥 등), K-pop, 한국 드라마와 영화가 세계적으로 인기를 끌고 있습니다.\\n- 역사: 삼국시대(고구려, 백제, 신라), 고려, 조선, 일제강점기, 1948년 대한민국 정부 수립 이후 현대에 이르기까지 풍부한 역사를 가지고 있습니다.\\n- 지리: 한반도에 위치하며, 북쪽으로는 북한과 접하고, 동쪽으로는 동해(일본해), 서쪽으로는 서해(황해), 남쪽으로는 대한해협을 사이에 두고 일본과 가까운 위치에 있습니다.\\n\\n추가로 궁금한 점이 있으면 말씀해 주세요!', additional_kwargs={}, response_metadata={'finish_reason': 'stop', 'model_name': 'gpt-4.1-nano-2025-04-14', 'system_fingerprint': 'fp_c4c155951e', 'service_tier': 'default'}, id='run--d0b32bd2-a326-42aa-8507-d3d6a1b81284-0')"
      ]
     },
     "execution_count": 4,
     "metadata": {},
     "output_type": "execute_result"
    }
   ],
   "source": [
    "from langchain_openai import ChatOpenAI\n",
    "from langchain.prompts.few_shot import FewShotChatMessagePromptTemplate\n",
    "from langchain.callbacks import StreamingStdOutCallbackHandler\n",
    "from langchain.prompts import ChatPromptTemplate\n",
    "\n",
    "chat = ChatOpenAI(\n",
    "    model_name=\"gpt-4.1-nano\",\n",
    "    temperature=0.1,\n",
    "    streaming=True,\n",
    "    callbacks=[StreamingStdOutCallbackHandler()],\n",
    ")\n",
    "\n",
    "examples = [\n",
    "    {\n",
    "        \"country\": \"프랑스\",\n",
    "        \"answer\": \"\"\"\n",
    "제가 프랑스에 대해 아는 것입니다:\n",
    "수도: 파리\n",
    "언어: 프랑스어\n",
    "음식: 와인과 치즈\n",
    "통화: 유로\n",
    "\"\"\",\n",
    "    },\n",
    "    {\n",
    "        \"country\": \"이탈리아\",\n",
    "        \"answer\": \"\"\"\n",
    "제가 이탈리아에 대해 아는 것입니다:\n",
    "수도: 로마\n",
    "언어: 이탈리아어\n",
    "음식: 피자와 파스타\n",
    "통화: 유로\n",
    "\"\"\",\n",
    "    },\n",
    "    {\n",
    "        \"country\": \"그리스\",\n",
    "        \"answer\": \"\"\"\n",
    "제가 그리스에 대해 아는 것입니다:\n",
    "수도: 아테네\n",
    "언어: 그리스어\n",
    "음식: 수블라키와 페타 치즈\n",
    "통화: 유로\n",
    "\"\"\",\n",
    "    },\n",
    "]\n",
    "\n",
    "example_prompt = ChatPromptTemplate.from_messages(\n",
    "    [\n",
    "        (\"human\", \"{country}에 대해 아는 것이 있나요?\"),\n",
    "        (\"ai\", \"{answer}\"),\n",
    "    ]\n",
    ")\n",
    "\n",
    "example_prompt = FewShotChatMessagePromptTemplate(\n",
    "    example_prompt=example_prompt,\n",
    "    examples=examples,\n",
    ")\n",
    "\n",
    "final_prompt = ChatPromptTemplate.from_messages(\n",
    "    [\n",
    "        (\"system\", \"당신은 지리학 전문가입니다.\"),\n",
    "        example_prompt,\n",
    "        (\"human\", \"{country}에 대해 아는 것이 있나요?\"),\n",
    "    ]\n",
    ")\n",
    "\n",
    "chain = final_prompt | chat\n",
    "chain.invoke({\"country\": \"대한민국\"})"
   ]
  }
 ],
 "metadata": {
  "kernelspec": {
   "display_name": "env",
   "language": "python",
   "name": "python3"
  },
  "language_info": {
   "codemirror_mode": {
    "name": "ipython",
    "version": 3
   },
   "file_extension": ".py",
   "mimetype": "text/x-python",
   "name": "python",
   "nbconvert_exporter": "python",
   "pygments_lexer": "ipython3",
   "version": "3.11.6"
  }
 },
 "nbformat": 4,
 "nbformat_minor": 5
}
