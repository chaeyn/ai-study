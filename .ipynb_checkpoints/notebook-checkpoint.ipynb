{
 "cells": [
  {
   "cell_type": "code",
   "execution_count": null,
   "id": "2c0485ca",
   "metadata": {},
   "outputs": [
    {
     "data": {
      "text/plain": [
       "'멕시코시티(멕시코)와 서울(대한민국) 사이의 직선 거리(공항 간 거리)는 약 11,000에서 11,500킬로미터 정도입니다. 정확한 거리는 출발지와 도착지의 구체적인 위치, 항로에 따라 다를 수 있습니다. 비행 시간은 직항 기준으로 약 13~14시간 정도 걸립니다.'"
      ]
     },
     "execution_count": 8,
     "metadata": {},
     "output_type": "execute_result"
    }
   ],
   "source": [
    "from langchain_openai import ChatOpenAI\n",
    "from langchain.prompts import PromptTemplate, ChatPromptTemplate\n",
    "\n",
    "chat = ChatOpenAI(model_name=\"gpt-4.1-nano\", temperature=0.1)\n",
    "\n",
    "template = PromptTemplate.from_template(\"{country_a}와 {country_b} 사이의 거리는 어떻게 되나요?\")\n",
    "prompt = template.format(country_a=\"멕시코\", country_b=\"서울\")\n",
    "\n",
    "chat.predict(prompt)"
   ]
  },
  {
   "cell_type": "code",
   "execution_count": null,
   "id": "05ac7d62",
   "metadata": {},
   "outputs": [
    {
     "data": {
      "text/plain": [
       "AIMessage(content='멕시코와 태국 사리(방콕)의 거리는 대략적으로 약 13,000km에서 14,000km 정도입니다. 정확한 거리는 출발지와 도착지의 구체적인 위치에 따라 다를 수 있습니다.  \\n제 이름은 채근영입니다!', additional_kwargs={'refusal': None}, response_metadata={'token_usage': {'completion_tokens': 66, 'prompt_tokens': 70, 'total_tokens': 136, 'completion_tokens_details': {'accepted_prediction_tokens': 0, 'audio_tokens': 0, 'reasoning_tokens': 0, 'rejected_prediction_tokens': 0}, 'prompt_tokens_details': {'audio_tokens': 0, 'cached_tokens': 0}}, 'model_name': 'gpt-4.1-nano-2025-04-14', 'system_fingerprint': 'fp_e91a518ddb', 'id': 'chatcmpl-C4pzYzK7hmulQR2krua5EJ3RBebDp', 'service_tier': 'default', 'finish_reason': 'stop', 'logprobs': None}, id='run--2271ad5f-a25f-4b0a-9f85-1cd85967f237-0', usage_metadata={'input_tokens': 70, 'output_tokens': 66, 'total_tokens': 136, 'input_token_details': {'audio': 0, 'cache_read': 0}, 'output_token_details': {'audio': 0, 'reasoning': 0}})"
      ]
     },
     "execution_count": 5,
     "metadata": {},
     "output_type": "execute_result"
    }
   ],
   "source": [
    "messages = ChatPromptTemplate.from_messages(\n",
    "  [\n",
    "    (\"system\", \"당신은 지리 전문가입니다. 그리고 당신은 오직 {language}로만 답변합니다.\"),\n",
    "    (\"ai\", \"내 이름은 채근영이야!\"),\n",
    "    (\"human\", \"{country_a}와 {country_b} 사이의 거리는 어떻게 되나요? 그리고 당신의 이름은 무엇인가요?\")\n",
    "  ]\n",
    ")\n",
    "\n",
    "chat.predict_messages(messages)\n"
   ]
  }
 ],
 "metadata": {
  "kernelspec": {
   "display_name": "Python 3 (ipykernel)",
   "language": "python",
   "name": "python3"
  },
  "language_info": {
   "codemirror_mode": {
    "name": "ipython",
    "version": 3
   },
   "file_extension": ".py",
   "mimetype": "text/x-python",
   "name": "python",
   "nbconvert_exporter": "python",
   "pygments_lexer": "ipython3",
   "version": "3.11.6"
  }
 },
 "nbformat": 4,
 "nbformat_minor": 5
}
